{
 "cells": [
  {
   "cell_type": "markdown",
   "metadata": {},
   "source": [
    "<!-- dom:TITLE: Electric stimulation of a neuron in a virtual laboratory -->\n",
    "# Electric stimulation of a neuron in a virtual laboratory\n",
    "<!-- AUTHOR: Solveig Næss -->\n",
    "\n",
    "<!-- DATE: today -->\n",
    "\n",
    "<!-- TOC: on -->"
   ]
  },
  {
   "cell_type": "markdown",
   "metadata": {},
   "source": [
    "\n"
   ]
  },
  {
   "cell_type": "markdown",
   "metadata": {},
   "source": [
    "<div class=\"alert alert-block alert-info\">\n",
    "\n",
    "This is a jupyter notebook. The notebook consists of text and code cells.\n",
    "Each code cell can be run by clicking on the cell (gray box), before clicking the\n",
    "play-button on the top of the page or pressing \"shift + enter\".\n",
    "\n",
    "The code cells contain small programs written in the programming language Python.\n",
    "We are going to use these programs for simulating nerve cell activity.\n",
    "You don't need any prerequisite programming knowledge for doing these tasks.\n",
    "Follow the instructions and ask the TAs for help whenever you have questions."
   ]
  },
  {
   "cell_type": "markdown",
   "metadata": {},
   "source": [
    "\n"
   ]
  },
  {
   "cell_type": "markdown",
   "metadata": {},
   "source": [
    "<div class=\"alert alert-block alert-info\">\n",
    "You will work in groups of two or three.\n",
    "\n",
    "Start by making a copy of this file: Click on File; Make a copy.\n",
    "Change the name of the file to: FamilynameFirstname_FamilynameFirstname_FamilynameFirstname_computinglab1.ipynb\n",
    "If your group consist of Harry Potter, Kristine Bonnevie and Isaac Newton, your filename is:   PotterHarry_BonnevieKristine_NewtonIsaac_computinglab1.ipynb\n",
    "\n",
    "This file should be handed in on CANVAS under Computational Lab 1: Neurosimulation"
   ]
  },
  {
   "cell_type": "markdown",
   "metadata": {},
   "source": [
    "\n"
   ]
  },
  {
   "cell_type": "markdown",
   "metadata": {},
   "source": [
    "This computing lab consists of a virtual laboratory,\n",
    "where we are going to stimulate a nerve cell with a sharp electrode.\n",
    "We want to know how the membrane potential changes when we inject current into the cell.\n",
    "Our goal is to understand how electric signals evolve over space and time in a neuron.\n",
    "\n",
    "The experiments will be simulated with the modeling tools [LFPy](lfpy.github.io) and [NEURON](neuron.yale.edu).\n",
    "These tools will divide the neuron into multiple compartments and represent each compartment by an electric circuit.\n",
    "<!-- dom:FIGURE: [./figures/multicomp.png, height=400 width=600 frac=0.8] -->\n",
    "<!-- begin figure -->\n",
    "\n",
    "<p></p>\n",
    "<img src=\"./figures/multicomp.png\" height=400 width=600>\n",
    "\n",
    "<!-- end figure -->\n",
    "\n",
    "Then, the membrane potential $V_n$ can be calculated by solving the cable equation for compartment number $n$:\n",
    "\n",
    "\n",
    "$C_m \\frac{dV_n}{dt} = \\frac{V_{n+1} - V_n}{R_i} - \\frac{V_n - V_{n-1}}{R_i} + \\frac{E_m - V_n}{R_m}$\n",
    "<!-- $C_m \\frac{\\partial V_m(x, t)}{\\partial t} = \\frac{E_m - V_m(x, t)}{R_m} + \\frac{d}{4 R_i} \\frac{\\partial^2 V_m}{\\partial x^2}$ -->\n",
    "\n",
    "This equation is derived from the fact that the sum of the current going into\n",
    "one compartment equals the sum of the current going out of the compartment.\n",
    "In words, the cable equation says that the membrane potential in compartment number $n$ in a neuron depends on the following factors:\n",
    "* the resistance of the cell membrane, $R_m$, measured in Ohms ($\\Omega$)\n",
    "\n",
    "* the resistance of the cytoplasm $R_i$, measured in Ohms ($\\Omega$)\n",
    "\n",
    "* the diameter of the cell $d$, measured in meters (m)\n",
    "\n",
    "* the capacitance of the cell membrane $C_m$, measured in Farads (F)\n",
    "\n",
    "* the resting membrane potentential $E_m$, measured in volts (V)\n",
    "\n",
    "* the membrane potential in the neighbor compartments $V_{n+1}$ and $V_{n-1}$, measured in volts (V).\n",
    "\n",
    "<!-- --- begin exercise --- -->\n",
    "\n",
    "## Exercise 1: Fill in the blanks\n",
    "<div id=\"ex:v_mem\"></div>\n",
    "\n",
    "\n",
    "**a)**\n",
    "Double click on the text below and replace the [----]s by choosing the correct words from the list below:"
   ]
  },
  {
   "cell_type": "markdown",
   "metadata": {},
   "source": [
    "\n"
   ]
  },
  {
   "cell_type": "markdown",
   "metadata": {},
   "source": [
    "The __[----]__ separates ions in the cytoplasm from the extracellular fluids.\n",
    "The separation of charge generates an electric voltage over the cell membrane.\n",
    "This voltage is called the __[----]__ and is measured in the unit of __[----]__.\n",
    "The axon has __[----]__ ion channels, which are necessary for regenerating an __[----]__ potential."
   ]
  },
  {
   "cell_type": "markdown",
   "metadata": {},
   "source": [
    "\n"
   ]
  },
  {
   "cell_type": "markdown",
   "metadata": {},
   "source": [
    "* *voltage*\n",
    "\n",
    "* *membrane potential*\n",
    "\n",
    "* *action*\n",
    "\n",
    "* *capacitance*\n",
    "\n",
    "* *voltage-gated*\n",
    "\n",
    "* *amperes*\n",
    "\n",
    "* *volts*\n",
    "\n",
    "* *cell membrane*\n",
    "\n",
    "(Click \"play\"/ \"shift+enter\", to make the text go back to normal.)\n",
    "\n",
    "\n",
    "\n",
    "<!-- --- end exercise --- -->\n",
    "\n",
    "\n",
    "\n",
    "\n",
    "<!-- --- begin exercise --- -->\n",
    "\n",
    "## Exercise 2: Injecting current into passive axon\n",
    "\n",
    "Now we are going to simulate an electrophysiology experiment during which an\n",
    "electrode injects electric current into a part of a neuron.\n",
    "\n",
    "We will study how this current injection affects the membrane potential.\n",
    "In order to visualize the difference between active and passive ion channels,\n",
    "we are going to start by simulating a part of a neuron with passive ion channels only.\n",
    "You can think of this as a part of a passive axon.\n",
    "A passive axon can be compared to a leaky water hose: similiar to water leaking out of the\n",
    "holes in the water hose, electric currents will \"leak out\" of the passive ion channels.\n",
    "\n",
    "Run the code cell below, in order to make python functions that can simulate the\n",
    "neural activity in the axon and plot the results."
   ]
  },
  {
   "cell_type": "code",
   "execution_count": 1,
   "metadata": {},
   "outputs": [],
   "source": [
    "%matplotlib inline\n",
    "#%matplotlib notebook\n",
    "\n",
    "from pylab import * # general plotting and computing\n",
    "from matplotlib.collections import PolyCollection # extra fancy plotting\n",
    "from ipywidgets import widgets, fixed # sliders\n",
    "from IPython.display import display, clear_output\n",
    "import LFPy # neural simulation\n",
    "from neuron import h # neural simulation\n",
    "\n",
    "# colors for plotting of electrodes\n",
    "el_clrs = [matplotlib.cm.get_cmap('Set3')(i) for i in np.linspace(0,2,num=10)]\n",
    "\n",
    "def plot_morph(ax, cell, input_locs=[0], color='k'):\n",
    "    input_idcs = [cell.get_closest_idx(x=xloc, y=0, z=0) for xloc in input_locs]\n",
    "    zips = []\n",
    "    for x, z in cell.get_idx_polygons():\n",
    "        zips.append(list(zip(x, z)))\n",
    "    polycol = PolyCollection(zips,\n",
    "                             edgecolors=color,\n",
    "                             facecolors=color,\n",
    "                             linewidths = cell.d)\n",
    "\n",
    "    ax.add_collection(polycol)\n",
    "\n",
    "    for el_num, idx in enumerate(input_idcs):\n",
    "        ax.plot(cell.x.mean(axis=-1)[idx], cell.z.mean(axis=-1)[idx]+1, 'v', color=el_clrs[el_num], ms=15)\n",
    "\n",
    "    ax.set_ylim([-10, 12])\n",
    "\n",
    "    ax.spines['left'].set_visible(False)\n",
    "    ax.set_yticklabels([])\n",
    "    ax.set_yticks([])\n",
    "    ax.set_xlabel(r'x ($\\mu$m)')\n",
    "    ax.set_title('morphology')\n",
    "    ax.set_xlim([-20,1020])\n",
    "    return ax\n",
    "\n",
    "\n",
    "def plot_electrode_current(ax, cell, stim_electrodes):\n",
    "    for el_num, electrode in enumerate(stim_electrodes):\n",
    "        ax.plot(cell.tvec, electrode.i, color=el_clrs[el_num], ls='--', label='electrode ' + str(el_num+1))\n",
    "    ax.set_xlabel('t (ms)')\n",
    "    ax.set_ylabel(r'I(t) (nA)')\n",
    "    ax.set_title('Injected current (t)')\n",
    "    ax.set_xticks(np.linspace(0, 100, num=11))\n",
    "\n",
    "def plot_membrane_potential_t(ax_v, ax_morph, cell, xloc):\n",
    "    idx = cell.get_closest_idx(x=xloc, y=0, z=0)\n",
    "    ax_morph.plot(cell.x.mean(axis=-1)[idx], cell.z.mean(axis=-1)[idx]-1, '^', color='gray', ms=15)\n",
    "    ax_v.plot(cell.tvec, cell.vmem[idx,:])\n",
    "    ax_v.set_xlabel('t (ms)')\n",
    "    ax_v.set_ylabel(r'$V$(t) (mV)')\n",
    "    ax_v.set_title('potential (t)')\n",
    "    ax_v.set_ylim([-100, 50])\n",
    "    ax_v.set_yticks(np.linspace(-100, 50, num=16))\n",
    "    ax_v.set_xlim([0,100])\n",
    "\n",
    "def plot_membrane_potential_x(ax, cell, t_point):\n",
    "    '''plot potential as function of x'''\n",
    "    t = int(t_point/cell.dt) # convert from time in (ms) to timepoint\n",
    "    ax.plot(cell.x.mean(axis=-1), cell.vmem[:,t])\n",
    "    ax.set_ylabel('V(x) (mV)')\n",
    "    ax.set_xlabel(r'x ($\\mu$m)')\n",
    "    ax.set_title('membrane potential (x)')\n",
    "    ax.set_ylim([-100, 50])\n",
    "    ax.set_yticks(np.linspace(-100, 50, num=16))\n",
    "    ax.set_xlim([0,1000])\n",
    "\n",
    "def plotting_cosmetics(fig):\n",
    "    for ax in fig.axes:\n",
    "        ax.spines['top'].set_visible(False)\n",
    "        ax.spines['right'].set_visible(False)\n",
    "    fig.tight_layout(h_pad=-2)\n",
    "    #fig.set_size_inches(10., 10.)\n",
    "\n",
    "def custom_fun(self, **custom_fun_args):\n",
    "    secnames = ''.join([sec.name() for sec in h.allsec()])\n",
    "    if 'axon' in secnames:\n",
    "        h.axon[0].insert('hh')\n",
    "        h.axon[1].insert('hh')\n",
    "    if 'soma' in secnames:\n",
    "        h.soma[0].insert('hh')\n",
    "\n",
    "\n",
    "def simulate_cell(morphology, input_locs = [0], delays=[20], active=False, i_amp=1, i_dur = 5):\n",
    "    num_electrodes = len(input_locs)\n",
    "    if len(delays) == 0:\n",
    "        delays = 20*np.ones(len(input_locs))\n",
    "    if len(delays) != num_electrodes:\n",
    "        raise AssertionError('You need the same number of input locations and delays! Try again.')\n",
    "\n",
    "    # set synapse parameters\n",
    "    r_m = 30000. # membrane resistance\n",
    "    cell_parameters = {\n",
    "        'morphology' : morphology,\n",
    "        'cm' : 1.0,         # membrane capacitance\n",
    "        'Ra' : 150.,        # axial resistance\n",
    "        'v_init' : -70.,    # initial membrane potential\n",
    "        'passive' : True,   # turn on NEURONs passive mechanism for all sections\n",
    "        'passive_parameters' : {'g_pas' : 1./r_m, 'e_pas' : -70}, # e_pas = resting potential\n",
    "        'nsegs_method': 'lambda_f',\n",
    "        'dt' : 2.**-3,      # simulation time step size\n",
    "        'tstart' : -100.,      # start time of simulation, recorders start at t=0\n",
    "        'tstop' : 100.,     # stop simulation at 100 ms.\n",
    "        'custom_fun': None,\n",
    "    }\n",
    "\n",
    "    if active:\n",
    "        cell_parameters['custom_fun'] = [custom_fun]\n",
    "        cell_parameters['custom_fun_args'] = [{}]\n",
    "\n",
    "    # create cell object\n",
    "    cell = LFPy.Cell(**cell_parameters)\n",
    "    cell.set_pos(x=-1000+cell.x[0,0])\n",
    "\n",
    "\n",
    "    if morphology == './cells/ball_n_stick.hoc':\n",
    "        cell.set_pos(x = 500)\n",
    "        cell.set_rotation(z = pi)\n",
    "    # create electrode for stimulating cell\n",
    "    pointprocess = {\n",
    "        'record_current' : True,\n",
    "        'pptype' : 'IClamp',\n",
    "        'amp' : i_amp,\n",
    "        'dur' : i_dur,\n",
    "    }\n",
    "\n",
    "    stim_electrodes = []\n",
    "    for i in range(len(input_locs)):\n",
    "        pointprocess['idx'] = cell.get_closest_idx(x=input_locs[i], y=0, z=0)\n",
    "        pointprocess['delay'] = delays[i]\n",
    "        stim_electrodes.append(LFPy.StimIntElectrode(cell, **pointprocess))\n",
    "\n",
    "    # simulate cell\n",
    "    cell.simulate(rec_imem=True, rec_vmem=True)\n",
    "\n",
    "    return cell, stim_electrodes\n",
    "\n",
    "def run_sim_and_plot(morphology, input_locs, active, timepoint, delays = []):\n",
    "    cell, electrode = simulate_cell(morphology, input_locs, delays = delays, active=active)\n",
    "\n",
    "    fig = figure()\n",
    "    ax_morph = subplot2grid((2,1),(0,0))\n",
    "    ax_v_x = subplot2grid((2,1),(1,0))\n",
    "\n",
    "    # plot morph\n",
    "    idcs = [cell.get_closest_idx(x=x_loc, y=0, z=0) for x_loc in input_locs]\n",
    "    plot_morph(ax_morph, cell, input_idcs = idcs)\n",
    "    # plot V(x)\n",
    "    plot_membrane_potential_x(ax_v_x, cell, timepoint)\n",
    "    plotting_cosmetics(fig)"
   ]
  },
  {
   "cell_type": "markdown",
   "metadata": {},
   "source": [
    "Run the code cell below to inject a $10$ ms step current of $0.3$ nA into a passive axon.\n",
    "* The top plot shows the axon\n",
    "\n",
    "* The colored triangle marks the electrode injecting current\n",
    "\n",
    "* The gray triangle marks the electrode recording the membrane potential\n",
    "\n",
    "* The middle plot shows the injected current as function of time\n",
    "\n",
    "* The bottom shows the membrane potential in the axon at position $x = 100$"
   ]
  },
  {
   "cell_type": "code",
   "execution_count": 2,
   "metadata": {},
   "outputs": [
    {
     "data": {
      "image/png": "[encoded data removed]",
      "text/plain": [
       "<Figure size 720x720 with 3 Axes>"
      ]
     },
     "metadata": {
      "needs_background": "light"
     },
     "output_type": "display_data"
    }
   ],
   "source": [
    "morphology = './cells/axon.hoc'\n",
    "cell, electrodes = simulate_cell(morphology, i_amp = 0.3, i_dur = 10)\n",
    "\n",
    "fig = figure(figsize = (10,10))\n",
    "ax_morph = subplot2grid((3,1),(0,0), colspan=2)\n",
    "ax_i = subplot2grid((3,1),(1,0))\n",
    "ax_v_t = subplot2grid((3,1),(2,0))\n",
    "\n",
    "fig.subplots_adjust(hspace=0.5)\n",
    "\n",
    "# plot morphology\n",
    "plot_morph(ax_morph, cell, input_locs = [0])\n",
    "# plot injected current as function of time\n",
    "plot_electrode_current(ax_i, cell, electrodes)\n",
    "# plot membrane potential where current is injected as function of time\n",
    "x_rec = 100\n",
    "plot_membrane_potential_t(ax_v_t, ax_morph, cell, x_rec)\n",
    "tittel = 'membrane potential at recording position x = ' + str(x_rec)\n",
    "ax_v_t.set_title(tittel)\n",
    "#plotting_cosmetics(fig)\n",
    "show()"
   ]
  },
  {
   "cell_type": "markdown",
   "metadata": {},
   "source": [
    "**a)**\n",
    "How large is the membrane potential at location $x = 100 \\mu$m before the current is switched on?\n",
    "\n",
    "Double click on \"Answer\" below, to type in your answer. Click the \"Play\"-button/ press shift+enter to make the text go back to normal."
   ]
  },
  {
   "cell_type": "markdown",
   "metadata": {},
   "source": [
    "\n"
   ]
  },
  {
   "cell_type": "markdown",
   "metadata": {},
   "source": [
    "Answer:"
   ]
  },
  {
   "cell_type": "markdown",
   "metadata": {},
   "source": [
    "\n"
   ]
  },
  {
   "cell_type": "markdown",
   "metadata": {},
   "source": [
    "\n",
    "**b)**\n",
    "What happens to the membrane potential when the current is switched on? Why?"
   ]
  },
  {
   "cell_type": "markdown",
   "metadata": {},
   "source": [
    "\n"
   ]
  },
  {
   "cell_type": "markdown",
   "metadata": {},
   "source": [
    "Answer:"
   ]
  },
  {
   "cell_type": "markdown",
   "metadata": {},
   "source": [
    "\n"
   ]
  },
  {
   "cell_type": "markdown",
   "metadata": {},
   "source": [
    "<!-- !bsol -->\n",
    "<!-- When we inject current into the cell there -->\n",
    "<!-- !esol -->\n",
    "\n",
    "**c)**\n",
    "Why doesn't the membrane potential immediately return to its initial value?"
   ]
  },
  {
   "cell_type": "markdown",
   "metadata": {},
   "source": [
    "\n"
   ]
  },
  {
   "cell_type": "markdown",
   "metadata": {},
   "source": [
    "Answer:"
   ]
  },
  {
   "cell_type": "markdown",
   "metadata": {},
   "source": [
    "\n"
   ]
  },
  {
   "cell_type": "markdown",
   "metadata": {},
   "source": [
    "<!-- !bsol -->\n",
    "<!-- It takes time for the current to escape... -->\n",
    "<!-- !esol -->\n",
    "\n",
    "<!-- --- end exercise --- -->\n",
    "\n",
    "\n",
    "\n",
    "\n",
    "<!-- --- begin exercise --- -->\n",
    "\n",
    "## Exercise 3: How does the membrane potential spread through a passive axon?\n",
    "\n",
    "Now we are going to look at how the membrane potential spreads spatially in our passive axon.\n",
    "Run the code cell below, to make an interactive simulation showing the membrane potential ($V$)\n",
    "as function of location ($x$).\n",
    "\n",
    "Here, we inject a $0.3$ nA current lasting $10$ ms.\n",
    "\n",
    "Change the timepoint shown in the figure by using the slider in one of the following ways:\n",
    "* Drag the slider with the cursor\n",
    "\n",
    "* Click on the slider, and move it with the arrow-keys\n",
    "\n",
    "* Double-click on the number to the left of the slider and type in your chosen timepoint."
   ]
  },
  {
   "cell_type": "code",
   "execution_count": 3,
   "metadata": {
    "scrolled": false
   },
   "outputs": [
    {
     "data": {
      "text/plain": [
       "<Figure size 1440x1440 with 0 Axes>"
      ]
     },
     "metadata": {},
     "output_type": "display_data"
    },
    {
     "data": {
      "application/vnd.jupyter.widget-view+json": {
       "model_id": "befc431915784709963b752a7d23a90c",
       "version_major": 2,
       "version_minor": 0
      },
      "text/plain": [
       "interactive(children=(FloatSlider(value=20.0, description='t (ms)', max=40.0, min=10.0, step=0.5), Output()), …"
      ]
     },
     "metadata": {},
     "output_type": "display_data"
    }
   ],
   "source": [
    "# define cell morphology\n",
    "morphology = './cells/axon.hoc'\n",
    "# set the x-coordinate where you want the axon to get electric input\n",
    "input_locs = [0]\n",
    "# set the time-points when you want each electrode to send electric input\n",
    "delays = [20] # between 0 and 100 ms\n",
    "# decide whether to insert active ion channels or not\n",
    "active = False\n",
    "# simulate current injection into cell\n",
    "cell, electrodes = simulate_cell(morphology, input_locs=input_locs, delays = delays, active=active, i_dur=10, i_amp=0.3)\n",
    "\n",
    "def make_vx_fig(timepoint):\n",
    "    plt.gcf().set_size_inches(10,10)\n",
    "    ax_morph = subplot2grid((2,2),(0,0))\n",
    "    ax_i = subplot2grid((2,2), (0,1))\n",
    "    ax_v_x = subplot2grid((2,2),(1,0))\n",
    "    \n",
    "    # plot morph\n",
    "    idcs = [cell.get_closest_idx(x=x_loc, y=0, z=0) for x_loc in input_locs]\n",
    "    plot_morph(ax_morph, cell, input_locs = input_locs)\n",
    "    # plot I(t)\n",
    "    plot_electrode_current(ax_i, cell, electrodes)\n",
    "    # plot V(x)\n",
    "    plot_membrane_potential_x(ax_v_x, cell, timepoint)\n",
    "    #plotting_cosmetics(fig)\n",
    "    plt.tight_layout()\n",
    "    plt.show()\n",
    "    \n",
    "fig = plt.figure(figsize = (20,20))\n",
    "slider = widgets.interact(make_vx_fig,\n",
    "                          timepoint=widgets.FloatSlider(description='t (ms)', min=10, max=40., step=0.5, value=20.))"
   ]
  },
  {
   "cell_type": "markdown",
   "metadata": {},
   "source": [
    "**a)**\n",
    "Where (for which x-location on the axon) does the membrane potential reach the highest value? When does this happen?\n",
    "NB: The simulation is lagging.. Go slow!"
   ]
  },
  {
   "cell_type": "markdown",
   "metadata": {},
   "source": [
    "\n"
   ]
  },
  {
   "cell_type": "markdown",
   "metadata": {},
   "source": [
    "Answer:"
   ]
  },
  {
   "cell_type": "markdown",
   "metadata": {},
   "source": [
    "\n"
   ]
  },
  {
   "cell_type": "markdown",
   "metadata": {},
   "source": [
    "Discuss with a fellow student:\n",
    "How do your answers above relate to the location and time-course of the input current?\n",
    "\n",
    "**b)**\n",
    "How do you think the membrane potential $V(x)$-graph will look if the elecrode is moved to the middle of the axon?"
   ]
  },
  {
   "cell_type": "markdown",
   "metadata": {},
   "source": [
    "\n"
   ]
  },
  {
   "cell_type": "markdown",
   "metadata": {},
   "source": [
    "Answer:"
   ]
  },
  {
   "cell_type": "markdown",
   "metadata": {},
   "source": [
    "\n"
   ]
  },
  {
   "cell_type": "markdown",
   "metadata": {},
   "source": [
    "You can change the electrode location by changing the following line in the code cell above:\n",
    "\n",
    "`input_locs = [0.]`\n",
    "\n",
    "The number inside the square brackets gives the x-position of the electrode. Change this so that the electrode is placed on the middle of the axon:\n",
    "\n",
    "`input_locs = [500.]`\n",
    "\n",
    "Run the code cell and discuss with a fellow student: Does the simulation match your assumptions? Explain why/why not. If the simulation result didn't match your assumption, change your answer above.\n",
    "\n",
    "\n",
    "<!-- --- end exercise --- -->\n",
    "\n",
    "\n",
    "\n",
    "\n",
    "<!-- --- begin exercise --- -->\n",
    "\n",
    "## Exercise 4: How does the axon diameter affect the membrane potential?\n",
    "\n",
    "In this exercise we are going to stimulate two axons:\n",
    "one axon with diameter $d = 2 \\mu m$ and a thicker axon.\n",
    "with diameter $d = 4 \\mu m$. The current injected into each cell lasts $10$ ms and has an amplitude of $0.3$ nA.\n",
    "\n",
    "\n",
    "**a)**\n",
    "Discuss with a fellow student: Will increasing the diameter make the membrane potential decay slower or more rapidly with distance from input location?\n",
    "\n",
    "Run the code cell below:"
   ]
  },
  {
   "cell_type": "code",
   "execution_count": 4,
   "metadata": {},
   "outputs": [
    {
     "data": {
      "image/png": "[encoded data removed]",
      "text/plain": [
       "<Figure size 720x720 with 6 Axes>"
      ]
     },
     "metadata": {
      "needs_background": "light"
     },
     "output_type": "display_data"
    }
   ],
   "source": [
    "# define cell morphologies\n",
    "morphology_thin = './cells/axon.hoc'\n",
    "morphology_thick = './cells/axon_thick.hoc'\n",
    "# simulate cells\n",
    "# i_amp sets the amplitude of the current injection in (nA)\n",
    "axon, stim_electrodes1 = simulate_cell(morphology_thin, [0.], i_dur = 10, i_amp=.3)\n",
    "axon_thick, stim_electrodes2 = simulate_cell(morphology_thick, [0.], i_dur = 10, i_amp=.3)\n",
    "\n",
    "# create figure comparing the two simulations\n",
    "fig = figure(figsize=(10,10))\n",
    "ax_morph1 = subplot2grid((3,2), (0,0))\n",
    "ax_morph2 = subplot2grid((3,2), (1,0))\n",
    "ax_v_x = subplot2grid((3,2), (2,0))\n",
    "ax_i1 = subplot2grid((3,2), (0,1))\n",
    "ax_i2 = subplot2grid((3,2), (1,1))\n",
    "ax_v_t = subplot2grid((3,2), (2,1))\n",
    "\n",
    "fig.subplots_adjust(hspace = 0.5)\n",
    "\n",
    "# plot axon morphologies\n",
    "c_thin = 'C0'\n",
    "c_thick = 'C1'\n",
    "plot_morph(ax_morph1, axon, input_locs = [0], color=c_thin)\n",
    "plot_morph(ax_morph2, axon_thick, input_locs = [0], color=c_thick)\n",
    "# plot injected currents as function of time\n",
    "plot_electrode_current(ax_i1, axon, stim_electrodes1)\n",
    "plot_electrode_current(ax_i2, axon_thick, stim_electrodes2)\n",
    "# plot membrane potential where current is injected as function of time\n",
    "x_rec = 100\n",
    "plot_membrane_potential_t(ax_v_t, ax_morph1, axon, x_rec)\n",
    "plot_membrane_potential_t(ax_v_t, ax_morph2, axon_thick, x_rec)\n",
    "tittel = 'membrane potential at recording position x = ' + str(x_rec)\n",
    "ax_v_t.set_title(tittel)\n",
    "ax_v_t.set_ylim([-80., -10])\n",
    "# plot membrane potential at time point 21 ms as function of axon length.\n",
    "plot_membrane_potential_x(ax_v_x, axon, 30)\n",
    "plot_membrane_potential_x(ax_v_x, axon_thick, 30)\n",
    "ax_v_x.set_ylim([-80., -10])\n",
    "#plotting_cosmetics(fig)\n",
    "show()"
   ]
  },
  {
   "cell_type": "markdown",
   "metadata": {},
   "source": [
    "**b)**\n",
    "How does the membrane potential in the thick axon differ from the membrane potential in the thin axon?\n",
    "Which changes could be done to our experiment, in order to make the membrane potential response look more similar for the two different axons?"
   ]
  },
  {
   "cell_type": "markdown",
   "metadata": {},
   "source": [
    "\n"
   ]
  },
  {
   "cell_type": "markdown",
   "metadata": {},
   "source": [
    "Answer:"
   ]
  },
  {
   "cell_type": "markdown",
   "metadata": {},
   "source": [
    "\n"
   ]
  },
  {
   "cell_type": "markdown",
   "metadata": {},
   "source": [
    "Change the amplitude of the current injected into the thick axon,\n",
    "to make orange $V(t)$-curve more similar to the blue one.\n",
    "\n",
    "You can do this by changing the very last number in the following line:\n",
    "\n",
    "`axon_thick, stim_electrodes2 = simulate_cell(morphology_thick, [0.], i_dur = 10, i_amp=.3)`\n",
    "\n",
    "such that `i_amp = ` \n",
    "some number between 0 and 1.\n",
    "\n",
    "**c)**\n",
    "Why did you have to increase/decrease the input current into the thick axon in order to get similar membrane potential amplitudes?"
   ]
  },
  {
   "cell_type": "markdown",
   "metadata": {},
   "source": [
    "\n"
   ]
  },
  {
   "cell_type": "markdown",
   "metadata": {},
   "source": [
    "Answer:"
   ]
  },
  {
   "cell_type": "markdown",
   "metadata": {},
   "source": [
    "\n"
   ]
  },
  {
   "cell_type": "markdown",
   "metadata": {},
   "source": [
    "\n",
    "**d)**\n",
    "Now that the amplitudes of the V(t)-curves for the thin (blue) and the thick (orange) axons are more similar, compare the shapes of the two V(x) curves. Give a short explanation of the difference. Do your results agree with your assumptions in 4a?"
   ]
  },
  {
   "cell_type": "markdown",
   "metadata": {},
   "source": [
    "\n"
   ]
  },
  {
   "cell_type": "markdown",
   "metadata": {},
   "source": [
    "Answer:"
   ]
  },
  {
   "cell_type": "markdown",
   "metadata": {},
   "source": [
    "\n"
   ]
  },
  {
   "cell_type": "markdown",
   "metadata": {},
   "source": [
    "<!-- --- end exercise --- -->\n",
    "\n",
    "\n",
    "\n",
    "\n",
    "<!-- --- begin exercise --- -->\n",
    "\n",
    "## Exercise 5: Active cable\n",
    "\n",
    "Now we are going to insert voltage-gated ion channels into our neuron model.\n",
    "\n",
    "In the code cell below, the line:\n",
    "\n",
    "*active = False*\n",
    "\n",
    "is changed to\n",
    "\n",
    "*active = True*.\n",
    "\n",
    "\n",
    "Run the code cell in order to insert a $7$ nA input current lasting $1$ ms into the $4 \\mu$m thick axon:"
   ]
  },
  {
   "cell_type": "code",
   "execution_count": 5,
   "metadata": {},
   "outputs": [
    {
     "data": {
      "text/plain": [
       "<Figure size 432x288 with 0 Axes>"
      ]
     },
     "metadata": {},
     "output_type": "display_data"
    },
    {
     "data": {
      "application/vnd.jupyter.widget-view+json": {
       "model_id": "e41c9f83c97945cbb80606b3a29c5a4c",
       "version_major": 2,
       "version_minor": 0
      },
      "text/plain": [
       "interactive(children=(FloatSlider(value=20.0, description='t (ms)', step=0.2), Output()), _dom_classes=('widge…"
      ]
     },
     "metadata": {},
     "output_type": "display_data"
    }
   ],
   "source": [
    "# define cell morphology\n",
    "morphology = './cells/axon_thick10.hoc'\n",
    "# set the x-coordinate where you want the axon to get electric input\n",
    "input_locs = [0] #µm\n",
    "# set the time-points when you want each electrode to send electric input\n",
    "delays = [20] # between 0 and 100 ms\n",
    "# decide whether to insert active ion channels or not\n",
    "active = True\n",
    "# simulate current injection into cell\n",
    "cell, electrodes = simulate_cell(morphology, input_locs, delays = delays, active=active, i_dur = 1, i_amp=7.)\n",
    "# set the x-location for where you want to plot V(t)\n",
    "def make_vx_fig(timepoint):\n",
    "    close('all')\n",
    "    plt.gcf().set_size_inches(10,10)\n",
    "    ax_morph = subplot2grid((2,2),(0,0))\n",
    "    ax_v_x = subplot2grid((2,2),(1,0))\n",
    "    ax_i = subplot2grid((2,2), (0,1))\n",
    "    ax_v_t = subplot2grid((2,2),(1,1))\n",
    "\n",
    "    # plot morph\n",
    "    plot_morph(ax_morph, cell, input_locs = input_locs)\n",
    "    ax_morph.set_xlim([-50,1500])\n",
    "    ax_morph.set_ylim([-20, 40])\n",
    "    # plot I(t)\n",
    "    plot_electrode_current(ax_i, cell, electrodes)\n",
    "    # plot V(t)\n",
    "    x_rec = 100\n",
    "    plot_membrane_potential_t(ax_v_t, ax_morph, cell, x_rec)\n",
    "    # plot V(x)\n",
    "    plot_membrane_potential_x(ax_v_x, cell, timepoint)\n",
    "    ax_v_x.set_xlim([0, 1500])\n",
    "    plotting_cosmetics(fig)\n",
    "    plt.show()\n",
    "\n",
    "fig = figure()\n",
    "slider = widgets.interact(make_vx_fig,\n",
    "                          timepoint=widgets.FloatSlider(description='t (ms)', min=0, max=100., step=0.2, value=20.)\n",
    "                         )"
   ]
  },
  {
   "cell_type": "markdown",
   "metadata": {},
   "source": [
    "**a)**\n",
    "Use the slider to simulate how an action potential propagates through the axon.\n",
    "Describe the differences between an action potential and a graded potential in terms of how they develop in space and time."
   ]
  },
  {
   "cell_type": "markdown",
   "metadata": {},
   "source": [
    "\n"
   ]
  },
  {
   "cell_type": "markdown",
   "metadata": {},
   "source": [
    "Answer:"
   ]
  },
  {
   "cell_type": "markdown",
   "metadata": {},
   "source": [
    "\n"
   ]
  },
  {
   "cell_type": "markdown",
   "metadata": {},
   "source": [
    "**b)**\n",
    "The distance between two nodes of ranvier can be up to $1.5$ mm.\n",
    "Would you say that this action potential is shorter than or longer than the distance between two Ranvier nodes?"
   ]
  },
  {
   "cell_type": "markdown",
   "metadata": {},
   "source": [
    "\n"
   ]
  },
  {
   "cell_type": "markdown",
   "metadata": {},
   "source": [
    "Answer:"
   ]
  },
  {
   "cell_type": "markdown",
   "metadata": {},
   "source": [
    "\n"
   ]
  },
  {
   "cell_type": "markdown",
   "metadata": {},
   "source": [
    "\n",
    "\n",
    "**c)**\n",
    "By adding a second electrode, we can stimulate the axon at two locations at the same time.\n",
    "\n",
    "What happens when two action potentials meet?"
   ]
  },
  {
   "cell_type": "markdown",
   "metadata": {},
   "source": [
    "\n"
   ]
  },
  {
   "cell_type": "markdown",
   "metadata": {},
   "source": [
    "Answer:"
   ]
  },
  {
   "cell_type": "markdown",
   "metadata": {},
   "source": [
    "\n"
   ]
  },
  {
   "cell_type": "markdown",
   "metadata": {},
   "source": [
    "Add another electrode to the simulation, such that we stimulate the axon at two locations at the same time,\n",
    "by changing the code lines setting the input locations and the delays.\n",
    "\n",
    "`input_locs = [0., 1500.]`\n",
    "\n",
    "`delays = [20., 20.]`\n",
    "\n",
    "Here, `input_locs` decides where the electrodes are placed on the axon.\n",
    "`delays` decides the time point when the corresponding electrode should give an electric input.\n",
    "Meaning that the code above inserts two electrodes:\n",
    "* One electrode at location $x = 0 \\mu$m which injects an electric current after 20 ms.\n",
    "\n",
    "* One electrode at location $x = 1500 \\mu$m which also injects a current after 20 ms.\n",
    "\n",
    "Run the code cell and use the slider to check whether your answer above is correct.\n",
    "\n",
    "\n",
    "**d)**\n",
    "How long is the total refractory period? (Total refractory period = absolute + relative refractory period.)\n"
   ]
  },
  {
   "cell_type": "markdown",
   "metadata": {},
   "source": [
    "Answer:"
   ]
  },
  {
   "cell_type": "markdown",
   "metadata": {},
   "source": [
    "\n"
   ]
  },
  {
   "cell_type": "markdown",
   "metadata": {},
   "source": [
    "<!-- --- begin hint in exercise --- -->\n",
    "\n",
    "**Hint.**\n",
    "Place the two electrodes at the same location, and alter the time points (`delays`).\n",
    "How long do we need to wait from one stimulation to the next in order to generate two equally large action potentials?\n",
    "\n",
    "<!-- --- end hint in exercise --- -->\n",
    "\n",
    "\n",
    "\n",
    "\n",
    "<!-- !bsubex -->\n",
    "<!-- Discuss with a fellow student: Will the action potential travel faster or slower in a thicker axon? -->\n",
    "<!--  -->\n",
    "<!-- !bc -->\n",
    "<!-- Answer: -->\n",
    "<!-- !ec -->\n",
    "<!--  -->\n",
    "<!-- You can test your answer by changing the morphology above between -->\n",
    "<!-- ´morphology = './cells/axon.hoc'´ -->\n",
    "<!-- and -->\n",
    "<!-- ´morphology = './cells/axon_thick.hoc'´ -->\n",
    "<!-- and check how much time it takes for the action potential to propagate from one end of the axon to the other by using the time slider. -->\n",
    "<!--  -->\n",
    "<!-- !bhint -->\n",
    "<!-- Here, you only need one electrode placed at input location `input_locs = [0]`. -->\n",
    "<!-- !ehint -->\n",
    "<!--  -->\n",
    "<!-- !bc pycod -->\n",
    "<!-- Answer: -->\n",
    "<!-- !ec -->\n",
    "\n",
    "<!-- !esubex -->\n",
    "\n",
    "<!-- --- end exercise --- -->\n",
    "\n",
    "\n",
    "\n",
    "\n",
    "<!-- --- begin exercise --- -->\n",
    "\n",
    "## Exercise 6: Temporal summation\n",
    "\n",
    "Now we are going to inject three currents into the left end of the axon.\n",
    "All injections last $1$ ms, have amplitudes of $2.5$ nA and there is $20$ ms between the start of each input.\n",
    "\n",
    "Run the code cell below:"
   ]
  },
  {
   "cell_type": "code",
   "execution_count": 6,
   "metadata": {},
   "outputs": [
    {
     "data": {
      "text/plain": [
       "<Figure size 432x288 with 0 Axes>"
      ]
     },
     "metadata": {},
     "output_type": "display_data"
    },
    {
     "data": {
      "application/vnd.jupyter.widget-view+json": {
       "model_id": "d51c03665d4b4affaabdef7b6afec7f3",
       "version_major": 2,
       "version_minor": 0
      },
      "text/plain": [
       "interactive(children=(FloatSlider(value=0.0, description='t (ms)', step=0.2), Output()), _dom_classes=('widget…"
      ]
     },
     "metadata": {},
     "output_type": "display_data"
    }
   ],
   "source": [
    "# define cell morphology\n",
    "morphology = './cells/axon_thick10.hoc'\n",
    "# set the x-coordinate where you want the axon to get electric input\n",
    "input_locs = [0, 0, 0] #µm\n",
    "# set the time-points when you want each electrode to send electric input\n",
    "delays = [0, 20, 40] # between 0 and 100 ms\n",
    "# decide whether to insert active ion channels or not\n",
    "active = True\n",
    "# simulate current injection into cell\n",
    "cell, electrodes = simulate_cell(morphology, input_locs, delays = delays, active=active, i_dur = 1, i_amp=2.5)\n",
    "# set the x-location for where you want to plot V(t)\n",
    "x_to_plot = -1 # int\n",
    "\n",
    "def make_vx_fig(timepoint):\n",
    "    close('all')\n",
    "    plt.gcf().set_size_inches(10,10)\n",
    "    ax_morph = subplot2grid((2,2),(0,0))\n",
    "    ax_v_x = subplot2grid((2,2),(1,0))\n",
    "    ax_i = subplot2grid((2,2), (0,1))\n",
    "    ax_v_t = subplot2grid((2,2),(1,1))\n",
    "\n",
    "    # plot morph\n",
    "    plot_morph(ax_morph, cell, input_locs = input_locs)\n",
    "    ax_morph.set_xlim([-50,1050])\n",
    "    ax_morph.set_ylim([-20, 40])\n",
    "    # plot I(t)\n",
    "    plot_electrode_current(ax_i, cell, electrodes)\n",
    "    ax_i.set_xlim([0, 50])\n",
    "    # plot V(t)\n",
    "    x_rec = 100\n",
    "    plot_membrane_potential_t(ax_v_t, ax_morph, cell, x_rec)\n",
    "    tittel = 'membrane potential at rec pos x = ' + str(x_rec)\n",
    "    ax_v_t.set_title(tittel)\n",
    "    ax_v_t.set_xlim([0, 50])\n",
    "    # plot V(x)\n",
    "    plot_membrane_potential_x(ax_v_x, cell, timepoint)\n",
    "    ax_v_x.set_xlim([-50, 1050])\n",
    "    plotting_cosmetics(fig)\n",
    "    plt.tight_layout()\n",
    "    plt.show()\n",
    "\n",
    "fig = figure()\n",
    "slider = widgets.interact(make_vx_fig,\n",
    "                          timepoint=widgets.FloatSlider(description='t (ms)', min=0, max=100., step=0.2, value=0.)\n",
    "                         )"
   ]
  },
  {
   "cell_type": "markdown",
   "metadata": {},
   "source": [
    "**a)**\n",
    "What is the largest time interval between the current inputs that will generate an action potential?"
   ]
  },
  {
   "cell_type": "markdown",
   "metadata": {},
   "source": [
    "\n"
   ]
  },
  {
   "cell_type": "markdown",
   "metadata": {},
   "source": [
    "Answer:"
   ]
  },
  {
   "cell_type": "markdown",
   "metadata": {},
   "source": [
    "\n"
   ]
  },
  {
   "cell_type": "markdown",
   "metadata": {},
   "source": [
    "<!-- --- begin hint in exercise --- -->\n",
    "\n",
    "**Hint.**\n",
    "Change the input time points in the following code line:\n",
    "`delays = [0, 20, 40] # between 0 and 100 ms`\n",
    "\n",
    "<!-- --- end hint in exercise --- -->\n",
    "\n",
    "\n",
    "\n",
    "\n",
    "**b)**\n",
    "Give a short explanation of the term \"temporal summation\"."
   ]
  },
  {
   "cell_type": "markdown",
   "metadata": {},
   "source": [
    "\n"
   ]
  },
  {
   "cell_type": "markdown",
   "metadata": {},
   "source": [
    "Answer:"
   ]
  },
  {
   "cell_type": "markdown",
   "metadata": {},
   "source": [
    "\n"
   ]
  },
  {
   "cell_type": "markdown",
   "metadata": {},
   "source": [
    "<!-- --- end exercise --- -->\n",
    "\n",
    "\n",
    "\n",
    "\n",
    "<!-- --- begin exercise --- -->\n",
    "\n",
    "## Exercise 7: Spatial summation\n",
    "\n",
    "Now we are going to inject two currents into the axon simultaneously.\n",
    "The inputs lasts $1$ ms and the current amplitudes are $2$ nA.\n",
    "\n",
    "Run the code cell below:"
   ]
  },
  {
   "cell_type": "code",
   "execution_count": 7,
   "metadata": {},
   "outputs": [
    {
     "data": {
      "text/plain": [
       "<Figure size 432x288 with 0 Axes>"
      ]
     },
     "metadata": {},
     "output_type": "display_data"
    },
    {
     "data": {
      "application/vnd.jupyter.widget-view+json": {
       "model_id": "5035a068d7fd4764bb539e8fe1752089",
       "version_major": 2,
       "version_minor": 0
      },
      "text/plain": [
       "interactive(children=(FloatSlider(value=0.0, description='t (ms)', max=20.0, step=0.2), Output()), _dom_classe…"
      ]
     },
     "metadata": {},
     "output_type": "display_data"
    }
   ],
   "source": [
    "# define cell morphology\n",
    "morphology = './cells/axon_thick10.hoc'\n",
    "# set the x-coordinate where you want the axon to get electric input\n",
    "input_locs = [0, 1000] #µm\n",
    "# set the time-points when you want each electrode to send electric input\n",
    "delays = [0, 0] # between 0 and 100 ms\n",
    "# decide whether to insert active ion channels or not\n",
    "active = True\n",
    "# simulate current injection into cell\n",
    "cell, electrodes = simulate_cell(morphology, input_locs, delays = delays, active=active, i_dur = 1, i_amp=2.)\n",
    "# set the x-location for where you want to plot V(t)\n",
    "x_to_plot = -1 # int\n",
    "\n",
    "def make_vx_fig(timepoint):\n",
    "    close('all')\n",
    "    plt.gcf().set_size_inches(10,10)\n",
    "    ax_morph = subplot2grid((2,2),(0,0))\n",
    "    ax_v_x = subplot2grid((2,2),(1,0))\n",
    "    ax_i = subplot2grid((2,2), (0,1))\n",
    "    ax_v_t = subplot2grid((2,2),(1,1))\n",
    "\n",
    "    # plot morph\n",
    "    plot_morph(ax_morph, cell, input_locs = input_locs)\n",
    "    ax_morph.set_xlim([-50,1050])\n",
    "    ax_morph.set_ylim([-20, 40])\n",
    "    # plot I(t)\n",
    "    plot_electrode_current(ax_i, cell, electrodes)\n",
    "    ax_i.set_xlim([0, 50])\n",
    "    # plot V(t)\n",
    "    x_rec = 100\n",
    "    plot_membrane_potential_t(ax_v_t, ax_morph, cell, x_rec)\n",
    "    tittel = 'membrane potential at rec pos x = ' + str(x_rec)\n",
    "    ax_v_t.set_title(tittel)\n",
    "    ax_v_t.set_xlim([0, 50])\n",
    "    # plot V(x)\n",
    "    plot_membrane_potential_x(ax_v_x, cell, timepoint)\n",
    "    ax_morph.set_xlim([-50,1050])\n",
    "    plotting_cosmetics(fig)\n",
    "    plt.tight_layout()\n",
    "    plt.show()\n",
    "\n",
    "fig = figure()\n",
    "slider = widgets.interact(make_vx_fig,\n",
    "                          timepoint=widgets.FloatSlider(description='t (ms)', min=0, max=20., step=0.2, value=0.)\n",
    "                         )"
   ]
  },
  {
   "cell_type": "markdown",
   "metadata": {},
   "source": [
    "**a)**\n",
    "What is the largest spatial distance between the electrode inputs that can result in an action potential?"
   ]
  },
  {
   "cell_type": "markdown",
   "metadata": {},
   "source": [
    "\n"
   ]
  },
  {
   "cell_type": "markdown",
   "metadata": {},
   "source": [
    "Answer:"
   ]
  },
  {
   "cell_type": "markdown",
   "metadata": {},
   "source": [
    "\n"
   ]
  },
  {
   "cell_type": "markdown",
   "metadata": {},
   "source": [
    "<!-- --- begin hint in exercise --- -->\n",
    "\n",
    "**Hint.**\n",
    "Change the input locations in the following code line:\n",
    "`input_locs = [0, 1000] #µm`\n",
    "\n",
    "<!-- --- end hint in exercise --- -->\n",
    "\n",
    "\n",
    "\n",
    "\n",
    "**b)**\n",
    "Give a short explanation of the term \"spatial summation\"."
   ]
  },
  {
   "cell_type": "markdown",
   "metadata": {},
   "source": [
    "\n"
   ]
  },
  {
   "cell_type": "markdown",
   "metadata": {},
   "source": [
    "Answer:"
   ]
  },
  {
   "cell_type": "markdown",
   "metadata": {},
   "source": [
    "\n"
   ]
  },
  {
   "cell_type": "markdown",
   "metadata": {},
   "source": [
    "Source: Principles of Computational Modelling in Neuroscience, Sterratt et al. 2011\n",
    "\n",
    "\n",
    "\n",
    "<!--  -->\n",
    "<!-- ===== Exercise: Nerve conduction in a passive neural cable ===== -->\n",
    "<!--  -->\n",
    "<!--  -->\n",
    "<!--  -->\n",
    "<!-- In this exercise we are going to investigate how various properties of a -->\n",
    "<!-- neuron affect the conduction of an electric signal. -->\n",
    "<!--  -->\n",
    "<!-- * Diameter (d) -->\n",
    "<!-- * Membrane resistance (r_m) -->\n",
    "<!-- * Membrane capacitance (c_m ) -->\n",
    "<!-- * Axial resistance (r_a) -->\n",
    "<!--  -->\n",
    "<!--  -->\n",
    "<!-- We will start by simulating a very simplified cell model, that is a neural cable. -->\n",
    "<!--  -->\n",
    "<!--  -->\n",
    "<!-- We start by loading some packages that can help us simulate neural activity, -->\n",
    "<!-- and plot the results. -->\n",
    "<!--  -->\n",
    "<!-- !bc pycod -->\n",
    "<!-- from pylab import * # general plotting and computing -->\n",
    "<!-- from matplotlib.collections import PolyCollection # extra fancy plotting -->\n",
    "<!-- import LFPy # neural simulation -->\n",
    "<!-- from neuron import h # neural simulation -->\n",
    "<!-- !ec -->\n",
    "<!--  -->\n",
    "<!-- In the following code cell we load the cell that we want to simulate. -->\n",
    "<!-- !bc pycod -->\n",
    "<!-- morphology = './cells/axon.hoc' -->\n",
    "<!-- !ec -->\n",
    "<!--  -->\n",
    "<!-- Below you see a function that injects a step current -->\n",
    "<!-- into one end of the cell, and simulates the cell as a series of RC-circuits. -->\n",
    "<!-- Run the code cell by clicking on the code cell, before typing shift+enter. -->\n",
    "<!--  -->\n",
    "<!-- !bc pycod -->\n",
    "<!-- def simulate_cell(morphology): -->\n",
    "<!-- # set synapse parameters -->\n",
    "<!-- r_m = 30000. # membrane resistance -->\n",
    "<!-- cell_parameters = { -->\n",
    "<!-- 'morphology' : morphology, -->\n",
    "<!-- 'cm' : 1.0,         # membrane capacitance -->\n",
    "<!-- 'Ra' : 150.,        # axial resistance -->\n",
    "<!-- 'v_init' : -65.,    # initial membrane potential -->\n",
    "<!-- 'passive' : True,   # turn on NEURONs passive mechanism for all sections -->\n",
    "<!-- 'passive_parameters' : {'g_pas' : 1./r_m, 'e_pas' : -65}, # e_pas = resting potential -->\n",
    "<!-- 'nsegs_method': 'lambda_f', -->\n",
    "<!-- 'dt' : 2.**-3,      # simulation time step size -->\n",
    "<!-- 'tstart' : 0.,      # start time of simulation, recorders start at t=0 -->\n",
    "<!-- 'tstop' : 100.,     # stop simulation at 100 ms. -->\n",
    "<!-- } -->\n",
    "<!--  -->\n",
    "<!-- # setup for active cell -->\n",
    "<!-- active_segments = False -->\n",
    "<!--  -->\n",
    "<!--  -->\n",
    "<!-- if active_segments: -->\n",
    "<!-- cell_parameters['custom_fun'] = [custom_fun] -->\n",
    "<!-- cell_parameters['custom_fun_args'] = [{}] -->\n",
    "<!--  -->\n",
    "<!-- # create cell object -->\n",
    "<!-- cell = LFPy.Cell(**cell_parameters) -->\n",
    "<!--  -->\n",
    "<!-- # create electrode for stimulating cell -->\n",
    "<!-- pointprocess = { -->\n",
    "<!-- 'idx' : 0, -->\n",
    "<!-- 'record_current' : True, -->\n",
    "<!-- 'pptype' : 'IClamp', -->\n",
    "<!-- 'amp' : 1, -->\n",
    "<!-- 'dur' : 10, -->\n",
    "<!-- 'delay' : 20, -->\n",
    "<!-- } -->\n",
    "<!--  -->\n",
    "<!-- stim_electrode = LFPy.StimIntElectrode(cell, **pointprocess) -->\n",
    "<!--  -->\n",
    "<!-- # simulate cell -->\n",
    "<!-- cell.simulate(rec_imem=True, rec_vmem=True) -->\n",
    "<!-- return cell, stim_electrode -->\n",
    "<!-- !ec -->\n",
    "<!--  -->\n",
    "<!-- In the following code cell, there is a function for plotting of cell morphology, -->\n",
    "<!-- injected current and membrane potential. Run the code cell. -->\n",
    "<!--  -->\n",
    "<!-- !bc pycod -->\n",
    "<!-- def plot_morph(ax, cell, input_idx=0): -->\n",
    "<!-- zips = [] -->\n",
    "<!-- for x, z in cell.get_idx_polygons(): -->\n",
    "<!-- zips.append(list(zip(x, z))) -->\n",
    "<!-- polycol = PolyCollection(zips, -->\n",
    "<!-- edgecolors='k', -->\n",
    "<!-- facecolors='k', -->\n",
    "<!-- linewidths = cell.diam) -->\n",
    "<!--  -->\n",
    "<!-- ax.add_collection(polycol) -->\n",
    "<!-- ax.plot(cell.xmid[input_idx], cell.zmid[input_idx], 'rv', ms=10) -->\n",
    "<!-- ax.set_ylim([-10, 12]) -->\n",
    "<!--  -->\n",
    "<!-- ax.spines['left'].set_visible(False) -->\n",
    "<!-- ax.set_yticklabels([]) -->\n",
    "<!-- ax.set_yticks([]) -->\n",
    "<!-- ax.set_xlabel(r'x ($\\mu$m)') -->\n",
    "<!-- ax.set_title('morphology') -->\n",
    "<!--  -->\n",
    "<!-- def plot_electrode_current(ax, cell, stim_electrode): -->\n",
    "<!-- ax.plot(cell.tvec, stim_electrode.i, 'r') -->\n",
    "<!-- ax.set_xlabel('t (ms)') -->\n",
    "<!-- ax.set_ylabel(r'$I$(t) (nA)') -->\n",
    "<!-- ax.set_title('Injected current (t)') -->\n",
    "<!--  -->\n",
    "<!-- def plot_membrane_potential_t(ax, cell, idx): -->\n",
    "<!-- ax.plot(cell.tvec, cell.vmem[idx,:]) -->\n",
    "<!-- ax.set_xlabel('t (ms)') -->\n",
    "<!-- ax.set_ylabel(r'$V$(t) (mV)') -->\n",
    "<!-- ax.set_title('potential (t)') -->\n",
    "<!-- ax.set_ylim([-70, 250]) -->\n",
    "<!--  -->\n",
    "<!-- def plotting_cosmetics(fig): -->\n",
    "<!-- for ax in fig.axes: -->\n",
    "<!-- ax.spines['top'].set_visible(False) -->\n",
    "<!-- ax.spines['right'].set_visible(False) -->\n",
    "<!-- fig.tight_layout(pad=0.5, h_pad=1., w_pad=.7) -->\n",
    "<!--  -->\n",
    "<!-- def plotting(cell, stim_electrode): -->\n",
    "<!-- # plot morphology -->\n",
    "<!-- fig = figure() -->\n",
    "<!-- ax_morph = subplot2grid((2,2),(0,0), colspan=2) -->\n",
    "<!-- ax_i = subplot2grid((2,2),(1,0)) -->\n",
    "<!-- ax_v_t = subplot2grid((2,2),(1,1)) -->\n",
    "<!--  -->\n",
    "<!-- # plot morphology -->\n",
    "<!-- idx_i=0 # compartment where current is injected -->\n",
    "<!-- plot_morph(ax_morph, cell, input_idx = idx_i) -->\n",
    "<!--  -->\n",
    "<!-- # plot injected current as function of time -->\n",
    "<!-- plot_electrode_current(ax_i, cell, stim_electrode) -->\n",
    "<!--  -->\n",
    "<!-- # plot membrane potential where current is injected as function of time -->\n",
    "<!-- plot_membrane_potential(ax_v_t, cell, idx_i) -->\n",
    "<!--  -->\n",
    "<!-- # cosmetics -->\n",
    "<!-- plotting_cosmetics(fig) -->\n",
    "<!-- show() -->\n",
    "<!-- !ec -->\n",
    "<!--  -->\n",
    "<!-- Now, we will use the functions above for simulating a neural cable with a -->\n",
    "<!-- an injected current and plotting the results. -->\n",
    "<!--  -->\n",
    "<!-- !bc pycod -->\n",
    "<!-- morphology = './cells/axon.hoc' -->\n",
    "<!-- cell, stim_electrode = simulate_cell(morphology) -->\n",
    "<!-- plotting(cell, stim_electrode) -->\n",
    "<!-- !ec -->\n",
    "<!--  -->\n",
    "<!-- !bsubex -->\n",
    "<!-- If we increase the diameter of the neuron, do you think the membrane potential -->\n",
    "<!-- will decrease or increase? Discuss with your neighbor, -->\n",
    "<!-- and write down the answer below: -->\n",
    "<!--  -->\n",
    "<!--  -->\n",
    "<!-- !bc -->\n",
    "<!-- Answer: -->\n",
    "<!-- !ec -->\n",
    "<!--  -->\n",
    "<!-- Now, test your hypothesis by varying the morphology between './cells/axon_thin.hoc', -->\n",
    "<!-- './cells/axon.hoc' and './cells/axon_thick.hoc', which have $d=1$, $d=2$ and -->\n",
    "<!-- $d=10~~\\mu m$, respectively. -->\n",
    "<!--  -->\n",
    "<!-- !bc pycod -->\n",
    "<!-- morphology = './cells/axon_thick.hoc' -->\n",
    "<!-- cell, stim_electrode = simulate_cell(morphology) -->\n",
    "<!-- plotting(cell, stim_electrode) -->\n",
    "<!-- !ec -->\n",
    "<!--  -->\n",
    "<!-- !esubex -->\n",
    "<!--  -->\n",
    "<!-- !bsubex -->\n",
    "<!-- The membrane consists of a lipid bilayer that separates ions in the extracellular -->\n",
    "<!-- space from the intracellular space. Membrane functions as capacitor. Will a -->\n",
    "<!-- large membrane capacitance contribute to a higher or lower membrane potential? -->\n",
    "<!-- Discuss with your neighbor and write down the answer below. -->\n",
    "<!--  -->\n",
    "<!-- !bc -->\n",
    "<!-- Answer: -->\n",
    "<!-- !ec -->\n",
    "<!--  -->\n",
    "<!-- Now, test your hypothesis by changing the membrane capacitance in the function -->\n",
    "<!-- `simulate_cell`, and plot the results by running the code cell below. -->\n",
    "<!-- Was your assumptions correct? Why/ why not? -->\n",
    "<!--  -->\n",
    "<!-- !bc pycod -->\n",
    "<!-- morphology = './cells/axon.hoc' -->\n",
    "<!-- cell, stim_electrode = simulate_cell(morphology) -->\n",
    "<!-- plotting(cell, stim_electrode) -->\n",
    "<!-- !ec -->\n",
    "<!--  -->\n",
    "<!-- !esubex -->\n",
    "<!--  -->\n",
    "<!-- !bsubex -->\n",
    "<!-- Now we are going to study how the membrane potential spreads in our passive neuron cable. -->\n",
    "<!-- The code below plots the morphology and the potential as a function of x. -->\n",
    "<!-- !esubex -->\n",
    "<!--  -->\n",
    "<!-- !bc pycod -->\n",
    "<!-- morphology = './cells/axon.hoc' -->\n",
    "<!-- cell, stim_electrode = simulate_cell(morphology) -->\n",
    "<!--  -->\n",
    "<!-- fig = figure() -->\n",
    "<!-- ax_morph = subplot2grid((2,1),(0,0)) -->\n",
    "<!-- ax_v_x = subplot2grid((2,1),(1,0)) -->\n",
    "<!--  -->\n",
    "<!-- # plot morphology -->\n",
    "<!-- plot_morph(ax_morph, cell, 0) -->\n",
    "<!--  -->\n",
    "<!--  -->\n",
    "<!-- # plot potential as function of x -->\n",
    "<!-- def plot_membrane_potential_t(ax, cell, t_point): -->\n",
    "<!-- ax.plot(cell.xmid, cell.vmem[:,t]) -->\n",
    "<!-- ax.set_ylabel('V(x) (mV)') -->\n",
    "<!-- ax.set_xlabel(r'x ($\\mu$m)') -->\n",
    "<!-- ax.set_title('potential (x)') -->\n",
    "<!-- ax.set_ylim([-70, 200]) -->\n",
    "<!--  -->\n",
    "<!-- #timepoint for plotting V(x) -->\n",
    "<!-- t_ms = 25 -->\n",
    "<!-- t = int(t_ms/cell.dt) -->\n",
    "<!-- plot_membrane_potential_t(ax_v_x, cell, t) -->\n",
    "<!-- plotting_cosmetics(fig) -->\n",
    "<!-- show() -->\n",
    "<!-- !ec -->\n",
    "<!--  -->\n",
    "<!-- * Change the timepoint, to see how the potential over the whole axon changes -->\n",
    "<!-- with time. -->\n",
    "<!--  -->\n",
    "<!-- !bsubex -->\n",
    "<!-- Leaky cable. -->\n",
    "<!-- In the `simulate_cell`-function we set the cell parameters in a dictionary. -->\n",
    "<!-- Change the axial resistance and the membrane resistance, to see how these affect -->\n",
    "<!-- how the membrane potential decays with distance. -->\n",
    "<!-- !esubex -->\n",
    "<!--  -->\n",
    "<!-- !bc pycod -->\n",
    "<!-- fig = figure() -->\n",
    "<!-- ax_morph = subplot2grid((2,1),(0,0)) -->\n",
    "<!-- ax_v_x = subplot2grid((2,1),(1,0)) -->\n",
    "<!-- plot_morph(ax_morph, cell, 0) -->\n",
    "<!-- plot_membrane_potential_t(ax_v_x, cell, t) -->\n",
    "<!-- plotting_cosmetics(fig) -->\n",
    "<!-- show() -->\n",
    "<!-- !ec -->\n",
    "<!--  -->\n",
    "<!-- ===== Exercise: Nerve conduction in active neural cable ===== -->\n",
    "<!-- Till now we have been working with a passive neuron model, -->\n",
    "<!-- i.e. the cable contained only leak ion channels and could not generate or regenerate an action potential. -->\n",
    "<!-- Now we are going to insert active ion channels into our model, and study the conduction of an action potential. -->\n",
    "<!-- We start by making a function for simulating an active cell. -->\n",
    "<!-- !bc pycod -->\n",
    "<!-- def custom_fun(): -->\n",
    "<!-- # h.soma.insert('hh') -->\n",
    "<!-- h.axon[0].insert('hh') -->\n",
    "<!-- h.axon[1].insert('hh') -->\n",
    "<!--  -->\n",
    "<!--  -->\n",
    "<!-- def simulate_cell_active(morphology, input_loc): -->\n",
    "<!-- # set synapse parameters -->\n",
    "<!-- r_m = 30000. # membrane resistance -->\n",
    "<!-- cell_parameters = { -->\n",
    "<!-- 'morphology' : morphology, -->\n",
    "<!-- 'cm' : 1.0,         # membrane capacitance -->\n",
    "<!-- 'Ra' : 150.,        # axial resistance -->\n",
    "<!-- 'v_init' : -65.,    # initial membrane potential -->\n",
    "<!-- 'passive' : True,   # turn on NEURONs passive mechanism for all sections -->\n",
    "<!-- 'passive_parameters' : {'g_pas' : 1./r_m, 'e_pas' : -65}, # e_pas = resting potential -->\n",
    "<!-- 'nsegs_method': 'lambda_f', -->\n",
    "<!-- 'dt' : 2.**-3,      # simulation time step size -->\n",
    "<!-- 'tstart' : 0.,      # start time of simulation, recorders start at t=0 -->\n",
    "<!-- 'tstop' : 100.,     # stop simulation at 100 ms. -->\n",
    "<!-- } -->\n",
    "<!--  -->\n",
    "<!-- cell_parameters['custom_fun'] = [custom_fun] -->\n",
    "<!-- cell_parameters['custom_fun_args'] = [{}] -->\n",
    "<!--  -->\n",
    "<!-- # create cell object -->\n",
    "<!-- cell = LFPy.Cell(**cell_parameters) -->\n",
    "<!--  -->\n",
    "<!-- # create electrode for stimulating cell -->\n",
    "<!-- pointprocess = { -->\n",
    "<!-- 'idx' : cell.get_closest_idx(x=input_loc[0], y=input_loc[1], z=input_loc[2]), -->\n",
    "<!-- 'record_current' : True, -->\n",
    "<!-- 'pptype' : 'IClamp', -->\n",
    "<!-- 'amp' : 1, -->\n",
    "<!-- 'dur' : 10, -->\n",
    "<!-- 'delay' : 20, -->\n",
    "<!-- } -->\n",
    "<!--  -->\n",
    "<!-- stim_electrode = LFPy.StimIntElectrode(cell, **pointprocess) -->\n",
    "<!--  -->\n",
    "<!-- # simulate cell -->\n",
    "<!-- cell.simulate(rec_imem=True, rec_vmem=True) -->\n",
    "<!--  -->\n",
    "<!-- return cell, stim_electrode -->\n",
    "<!--  -->\n",
    "<!-- !ec -->\n",
    "<!--  -->\n",
    "<!-- Next, we simulate the cell, now with the input current in the middle compartment -->\n",
    "<!--  -->\n",
    "<!-- !bc pycod -->\n",
    "<!-- cell, stim_electrode = simulate_cell_active(morphology, [1000., 0., 0.]) -->\n",
    "<!--  -->\n",
    "<!--  -->\n",
    "<!-- fig = figure() -->\n",
    "<!-- ax_morph = subplot2grid((6,1),(0,0)) -->\n",
    "<!-- ax_v_t = subplot2grid((6,1),(1,0)) -->\n",
    "<!-- ax_v_x_1 = subplot2grid((6,1),(2,0)) -->\n",
    "<!-- ax_v_x_2 = subplot2grid((6,1),(3,0)) -->\n",
    "<!-- ax_v_x_3 = subplot2grid((6,1),(4,0)) -->\n",
    "<!-- ax_v_x_4 = subplot2grid((6,1),(5,0)) -->\n",
    "<!-- axes_vx = [ax_v_x_1, ax_v_x_2, ax_v_x_3, ax_v_x_4] -->\n",
    "<!--  -->\n",
    "<!-- # plot morph -->\n",
    "<!-- plot_morph(ax_morph, cell, 31) -->\n",
    "<!-- # plot V(t) -->\n",
    "<!-- plot_membrane_potential(ax_v_t, cell, 31) -->\n",
    "<!-- # plot V(x) -->\n",
    "<!-- t_points = [25., 26., 27., 28.] -->\n",
    "<!-- clrs = cm.viridis(np.linspace(0,0.8,num=len(t_points))) -->\n",
    "<!-- for i in range(len(t_points)): -->\n",
    "<!-- t = int(t_points[i]/cell.dt) -->\n",
    "<!-- lab = 't = ' + str(t_points[i]) + ' ms' -->\n",
    "<!-- axes_vx[i].plot(cell.xmid, cell.vmem[:, t], c=clrs[i], label=lab) -->\n",
    "<!-- axes_vx[i].set_ylabel('V(x) (mV)') -->\n",
    "<!-- ax_v_x_4.set_xlabel(r'x ($\\mu$m)') -->\n",
    "<!-- plotting_cosmetics(fig) -->\n",
    "<!-- fig.set_size_inches(6,10) -->\n",
    "<!-- ax_v_t.set_title('') -->\n",
    "<!-- for ax in vx_axes: -->\n",
    "<!-- ax.legend(loc=1, frameon=False) -->\n",
    "<!-- show -->\n",
    "<!-- print(cell.totnsegs) -->\n",
    "<!-- !ec -->\n",
    "<!--  -->\n",
    "<!--  -->\n",
    "<!-- !bc pycod -->\n",
    "<!-- cell = simulate_cell_active(morphology, [1000., 0., 0.]) -->\n",
    "<!--  -->\n",
    "<!--  -->\n",
    "<!-- fig = figure() -->\n",
    "<!-- ax_morph = subplot2grid((6,1),(0,0)) -->\n",
    "<!-- ax_v_t = subplot2grid((6,1),(1,0)) -->\n",
    "<!-- ax_v_x_1 = subplot2grid((6,1),(2,0)) -->\n",
    "<!-- ax_v_x_2 = subplot2grid((6,1),(3,0)) -->\n",
    "<!-- ax_v_x_3 = subplot2grid((6,1),(4,0)) -->\n",
    "<!-- ax_v_x_4 = subplot2grid((6,1),(5,0)) -->\n",
    "<!-- axes_vx = [ax_v_x_1, ax_v_x_2, ax_v_x_3, ax_v_x_4] -->\n",
    "<!--  -->\n",
    "<!-- # plot morph -->\n",
    "<!-- plot_morph(ax_morph, cell, input_idx=31) -->\n",
    "<!-- # plot V(t) -->\n",
    "<!-- plot_membrane_potential(ax_v_t, cell, 31) -->\n",
    "<!-- # plot V(x) -->\n",
    "<!-- t_points = [25., 26., 27., 28.] -->\n",
    "<!-- clrs = cm.viridis(np.linspace(0,0.8,num=len(t_points))) -->\n",
    "<!-- for i in range(len(t_points)): -->\n",
    "<!-- t = int(t_points[i]/cell.dt) -->\n",
    "<!-- lab = 't = ' + str(t_points[i]) + ' ms' -->\n",
    "<!-- axes_vx[i].plot(cell.xmid, cell.vmem[:, t], c=clrs[i], label=lab) -->\n",
    "<!-- axes_vx[i].set_ylabel('V(x) (mV)') -->\n",
    "<!-- ax_v_x_4.set_xlabel(r'x ($\\mu$m)') -->\n",
    "<!-- plotting_cosmetics(fig) -->\n",
    "<!-- fig.set_size_inches(6,10) -->\n",
    "<!-- ax_v_t.set_title('') -->\n",
    "<!-- for ax in vx_axes: -->\n",
    "<!-- ax.legend(loc=1, frameon=False) -->\n",
    "<!-- show -->\n",
    "<!-- print(cell.totnsegs) -->\n",
    "<!-- !ec -->\n",
    "<!-- ===== Exercise: How does myelination affect action potential propagation speed? ===== -->\n",
    "<!--  -->\n",
    "<!--  -->\n",
    "<!-- ===== Exercise: Spatial and temporal summation ===== -->\n",
    "<!-- Insert 3 electrodes into axon. -->\n",
    "<!-- Start by setting three inputs distant in space and time. -->\n",
    "<!--  -->\n",
    "<!-- Don't change amplitudes. -->\n",
    "<!-- - Make neuron spike by changing input location -->\n",
    "<!-- - Make neuron spike by chaning input time points. -->\n",
    "<!--  -->\n",
    "<!--  -->\n",
    "<!-- # def plotting(cell, plot_times): -->\n",
    "<!-- #     # plot morphology -->\n",
    "<!-- #     fig = figure() -->\n",
    "<!-- #     ax_v_x_1 = subplot2grid((6,1),(2,0)) -->\n",
    "<!-- #     ax_v_x_2 = subplot2grid((6,1),(3,0)) -->\n",
    "<!-- #     ax_v_x_3 = subplot2grid((6,1),(4,0)) -->\n",
    "<!-- #     ax_v_x_4 = subplot2grid((6,1),(5,0)) -->\n",
    "<!-- #     vx_axes = [ax_v_x_1, ax_v_x_2, ax_v_x_3, ax_v_x_4] -->\n",
    "<!-- #     clrs = cm.viridis(np.linspace(0,0.8,num=len(vx_axes))) -->\n",
    "<!-- # -->\n",
    "<!-- #     for i in range(len(plot_times)): -->\n",
    "<!-- #         t_spike = int(plot_times[i]/cell.dt) -->\n",
    "<!-- #         lab = 't = ' + str(plot_times[i]) + ' ms' -->\n",
    "<!-- #         # vx_axes[i].plot(cell.xmid, cell.vmem[:,t_spike], c = clrs[i], label=lab) -->\n",
    "<!-- #         vx_axes[i].plot(cell.xmid, cell.vmem[:,t_spike], c = clrs[i], label=lab) -->\n",
    "<!-- #         vx_axes[i].set_ylabel('V(x) (mV)') -->\n",
    "<!-- # -->\n",
    "<!-- #     ax_v_x_4.set_xlabel(r'x ($\\mu$m)') -->\n",
    "<!-- #     ax_v_x_1.set_title('potential (x)') -->\n",
    "<!-- # -->\n",
    "<!-- #     ax_morph = subplot2grid((6,1),(0,0)) -->\n",
    "<!-- #     zips = [] -->\n",
    "<!-- #     for x, z in cell.get_idx_polygons(): -->\n",
    "<!-- #         zips.append(list(zip(x, z))) -->\n",
    "<!-- #     polycol = PolyCollection(zips, -->\n",
    "<!-- #                              edgecolors='k', -->\n",
    "<!-- #                              facecolors='k', -->\n",
    "<!-- #                              linewidths = cell.diam) -->\n",
    "<!-- #     ax_morph.add_collection(polycol) -->\n",
    "<!-- #     ax_morph.plot(cell.xmid[cell.synidx], cell.zmid[cell.synidx], 'ro', ms=5) -->\n",
    "<!-- #     ax_morph.set_ylim([-10, 12]) -->\n",
    "<!-- # -->\n",
    "<!-- #     ax_morph.spines['left'].set_visible(False) -->\n",
    "<!-- #     ax_morph.set_yticklabels([]) -->\n",
    "<!-- #     ax_morph.set_yticks([]) -->\n",
    "<!-- #     ax_morph.set_xlabel(r'x ($\\mu$m)') -->\n",
    "<!-- #     ax_morph.set_title('morphology') -->\n",
    "<!-- # -->\n",
    "<!-- #     ax_v_t = subplot2grid((6,1),(1,0)) -->\n",
    "<!-- #     ax_v_t.plot(cell.tvec, cell.vmem[cell.synidx[0],:]) -->\n",
    "<!-- #     ax_v_t.set_xlabel('t (ms)') -->\n",
    "<!-- #     ax_v_t.set_ylabel(r'$V_{mid}$(t) (mV)') -->\n",
    "<!-- #     ax_v_t.set_title('potential in middle segment (t)') -->\n",
    "<!-- # -->\n",
    "<!-- #     ax_v_t.scatter(plot_times, np.ones(len(plot_times))*-65, c=clrs, marker = 'v', zorder=10) -->\n",
    "<!-- # -->\n",
    "<!-- #     pot_axes = vx_axes + [ax_v_t] -->\n",
    "<!-- #     for ax in pot_axes: -->\n",
    "<!-- #         ax.set_ylim([-70, 40]) -->\n",
    "<!-- #     for ax in vx_axes: -->\n",
    "<!-- #         ax.legend(loc=1, frameon=False) -->\n",
    "<!-- # -->\n",
    "<!-- #     for ax in fig.axes: -->\n",
    "<!-- #         ax.spines['top'].set_visible(False) -->\n",
    "<!-- #         ax.spines['right'].set_visible(False) -->\n",
    "<!-- #     fig.set_size_inches(6,8) -->\n",
    "<!-- #     fig.tight_layout(pad=0.5, h_pad=1., w_pad=.7) -->\n",
    "<!-- #     show() -->\n",
    "<!-- # !ec -->\n",
    "<!-- # -->\n",
    "<!-- # Now, we will use the functions above for simulating a neural cable with a -->\n",
    "<!-- # synaptic input current in the middle compartment and plotting the results. -->\n",
    "<!-- # -->\n",
    "<!-- # !bc pycod -->\n",
    "<!-- # morphology = './cells/axon.hoc' -->\n",
    "<!-- # cell = simulate_cell(morphology) -->\n",
    "<!-- # plot_times = [21., 23., 30., 60.] -->\n",
    "<!-- # plotting(cell, plot_times) -->\n",
    "<!-- # !ec -->\n",
    "<!-- # -->\n",
    "<!-- # !bsubex -->\n",
    "<!-- # If we increase the diameter of the neuron, do you think the potential curve will -->\n",
    "<!-- # be steeper or flatter? Discuss with your neighbor, and write down the answer below: -->\n",
    "<!-- # !bc -->\n",
    "<!-- # -->\n",
    "<!-- # !ec -->\n",
    "<!-- # -->\n",
    "<!-- # Now, test your hypothesis by varying the morphology between './cells/axon_thin.hoc', -->\n",
    "<!-- # './cells/axon.hoc' and './cells/axon_thick.hoc', which have $d=1$, $d=2$ and -->\n",
    "<!-- # $d=10~~\\mu m$, respectively. -->\n",
    "<!-- # -->\n",
    "<!-- # !bc pycod -->\n",
    "<!-- # morphology = './cells/axon_thin.hoc' -->\n",
    "<!-- # cell = simulate_cell(morphology) -->\n",
    "<!-- # plot_times = [21., 23., 30., 60.] -->\n",
    "<!-- # plotting(cell, plot_times) -->\n",
    "<!-- # !ec -->\n",
    "<!-- # !esubex -->\n",
    "<!-- # -->\n",
    "<!-- # !bsubex -->\n",
    "<!-- # How will the membrane resistance (´r_m´) affect how the membrane potential falls as function of x? -->\n",
    "<!-- # !esubex -->\n",
    "<!-- # -->\n",
    "<!-- # !bsubex -->\n",
    "<!-- # Will an increase in capacitance (´c_m´) make the V(x)-curve steeper or flatter? -->\n",
    "<!-- # !esubex -->\n",
    "<!--  -->\n",
    "<!--  -->\n",
    "<!-- # try to set active conductances -->\n",
    "<!-- # remember that you have the exercise where the synapse is moved around. -->\n",
    "<!--  -->\n",
    "<!-- # Documentation can be found here: [http://lfpy.github.io/](http://lfpy.github.io/) (NB: some updates are not documented.) -->\n",
    "<!-- # -->\n",
    "<!-- # ===== Exercise: Simulation of pyramidal cell ===== -->\n",
    "<!-- # Instead of building the morphology yourself, you will in this example work with -->\n",
    "<!-- # anatomically reconstructed neuron models, which you can find in the cells-folder. -->\n",
    "<!-- # We start by simulating the Mainen and Sejnowski neuron model, -->\n",
    "<!-- # which is a layer-5 pyramidal cell from cat visual cortex. For more details, see -->\n",
    "<!-- # [Mainen and Sejnowski 1996](https://www.ncbi.nlm.nih.gov/pubmed/8684467). -->\n",
    "<!-- # -->\n",
    "<!-- # !bsubex -->\n",
    "<!-- # **Plot neuron morphology and somatic membrane potential** -->\n",
    "<!-- # <linebreak> Run the code-cells below to simulate the cell, show -->\n",
    "<!-- # the neuron morphology, mark the synapse location with a red dot and plot the -->\n",
    "<!-- # somatic membrane potential. -->\n",
    "<!-- # -->\n",
    "<!-- # !bc pycod -->\n",
    "<!-- # import LFPy -->\n",
    "<!-- # import numpy as np -->\n",
    "<!-- # from pylab import * -->\n",
    "<!-- # from matplotlib.collections import PolyCollection -->\n",
    "<!-- # from ipywidgets import widgets, fixed -->\n",
    "<!-- # from neuron import h -->\n",
    "<!-- # !ec -->\n",
    "<!-- # -->\n",
    "<!-- # !bc pycod -->\n",
    "<!-- # def custom_fun(): -->\n",
    "<!-- #     h.soma.insert('hh') -->\n",
    "<!-- # -->\n",
    "<!-- # def simulate_n_plot_cell_with_synapse(morphology, -->\n",
    "<!-- #                                synapse_xpos, -->\n",
    "<!-- #                                synapse_zpos, -->\n",
    "<!-- #                                syn_weight, -->\n",
    "<!-- #                                spike_times, -->\n",
    "<!-- #                                active_soma, -->\n",
    "<!-- #                                rot): -->\n",
    "<!-- #     cell_parameters = { -->\n",
    "<!-- #         'morphology' : morphology, # from Mainen & Sejnowski, J Comput Neurosci, 1996 -->\n",
    "<!-- #         'cm' : 1.0,         # membrane capacitance -->\n",
    "<!-- #         'Ra' : 150.,        # axial resistance -->\n",
    "<!-- #         'v_init' : -65.,    # initial crossmembrane potential -->\n",
    "<!-- #         'passive' : True,   # turn on NEURONs passive mechanism for all sections -->\n",
    "<!-- #         'passive_parameters' : {'g_pas' : 1./30000, 'e_pas' : -65}, -->\n",
    "<!-- #         'dt' : 2.**-3,      # simulation time step size -->\n",
    "<!-- #         'tstart' : 0.,      # start time of simulation, recorders start at t=0 -->\n",
    "<!-- #         'tstop' : 100.,     # stop simulation at 100 ms. -->\n",
    "<!-- #     } -->\n",
    "<!-- # -->\n",
    "<!-- #     if active_soma: -->\n",
    "<!-- #         cell_parameters['custom_fun'] = [custom_fun] -->\n",
    "<!-- #         cell_parameters['custom_fun_args'] = [{}] -->\n",
    "<!-- # -->\n",
    "<!-- #     cell = LFPy.Cell(**cell_parameters) -->\n",
    "<!-- #     cell.set_rotation(x=rot[0], y=rot[1], z=rot[2]) -->\n",
    "<!-- # -->\n",
    "<!-- #     synapse_parameters = { -->\n",
    "<!-- #         'idx' : cell.get_closest_idx(x=synapse_xpos, y=0., z=synapse_zpos), -->\n",
    "<!-- #         'e' : 0.,                   # reversal potential -->\n",
    "<!-- #         'syntype' : 'ExpSyn',       # synapse type -->\n",
    "<!-- #         'tau' : 5.,                 # synaptic time constant -->\n",
    "<!-- #         'weight' : syn_weight,            # synaptic weight -->\n",
    "<!-- #         'record_current' : True,    # record synapse current -->\n",
    "<!-- #     } -->\n",
    "<!-- # -->\n",
    "<!-- #     # Create synapse and set time of synaptic input -->\n",
    "<!-- #     synapse = LFPy.Synapse(cell, **synapse_parameters) -->\n",
    "<!-- #     synapse.set_spike_times(np.array([spike_times])) -->\n",
    "<!-- # -->\n",
    "<!-- #     # simulate cell -->\n",
    "<!-- #     cell.simulate(rec_imem=True, rec_vmem=True) -->\n",
    "<!-- # -->\n",
    "<!-- #     # plot -->\n",
    "<!-- #     fig = plt.figure() -->\n",
    "<!-- #     ax1 = plt.subplot2grid((1,2),(0,0)) -->\n",
    "<!-- #     zips = [] -->\n",
    "<!-- #     for x, z in cell.get_idx_polygons(): -->\n",
    "<!-- #         zips.append(list(zip(x, z))) -->\n",
    "<!-- #     polycol = PolyCollection(zips, -->\n",
    "<!-- #                              edgecolors='none', -->\n",
    "<!-- #                              facecolors='k') -->\n",
    "<!-- #     ax1.add_collection(polycol) -->\n",
    "<!-- #     ax1.plot(cell.xmid[cell.synidx], cell.zmid[cell.synidx], 'ro', ms=5) -->\n",
    "<!-- #     ax1.set_xlim([-700, 700]) -->\n",
    "<!-- #     ax1.set_ylim([-400, 1200]) -->\n",
    "<!-- #     ax1.axis('off') -->\n",
    "<!-- # -->\n",
    "<!-- #     ax2 = plt.subplot2grid((1,2),(0,1)) -->\n",
    "<!-- #     ax2.plot(cell.tvec, cell.vmem[0]) -->\n",
    "<!-- #     ax2.set_xlabel('t [ms]') -->\n",
    "<!-- #     ax2.set_ylabel('soma potential [mV]') -->\n",
    "<!-- #     plt.show() -->\n",
    "<!-- # !ec -->\n",
    "<!-- # -->\n",
    "<!-- # !bc pycod -->\n",
    "<!-- # morphology = './cells/j4a.hoc' -->\n",
    "<!-- # #morphology = './cells/cell1.asc' -->\n",
    "<!-- # rotation = [4.99, -4.33, 3.14] -->\n",
    "<!-- # #rotation = [np.pi/2, 0,0] -->\n",
    "<!-- # slider = widgets.interact(simulate_n_plot_cell_with_synapse, morphology=fixed(morphology), -->\n",
    "<!-- #                           synapse_xpos=widgets.IntSlider(min=-200.,max=200.,step=10.,value=600.), -->\n",
    "<!-- #                           synapse_zpos=widgets.IntSlider(min=-200.,max=1400.,step=10.,value=600.), -->\n",
    "<!-- #                           syn_weight=widgets.FloatSlider(min=0.,max=.1,step=.0001,value=0.001), -->\n",
    "<!-- #                           active_soma=False, -->\n",
    "<!-- #                           spike_times = widgets.IntSlider(min=0.,max=80.,step=10.,value=20.), -->\n",
    "<!-- #                           rot = fixed(rotation) -->\n",
    "<!-- #                           ) -->\n",
    "<!-- # !ec -->\n",
    "<!-- # !esubex -->\n",
    "<!-- # -->\n",
    "<!-- # !bsubex -->\n",
    "<!-- # Keep the soma segment inactive. Which synapse locations and synaptic weights -->\n",
    "<!-- # will give the largest and smallest somatic responses? -->\n",
    "<!-- # Discuss with a fellow student. Use the sliders to test your hypothesis. -->\n",
    "<!-- # !esubex -->\n",
    "<!-- # -->\n",
    "<!-- # !bsubex -->\n",
    "<!-- # By activating the soma, can you make the neuron spike? Test with the sliders. -->\n",
    "<!-- # !esubex -->\n",
    "<!-- # -->\n",
    "<!-- # !bsubex -->\n",
    "<!-- # If you want to study a nerve cell from layer-5b in rat cortex instead (from the -->\n",
    "<!-- # article by [Hay et al. 2011](http://journals.plos.org/ploscompbiol/article?id=10.1371/journal.pcbi.1002107)), -->\n",
    "<!-- # just change the morphology to the path of `cell1.asc` in the cells-folder. -->\n",
    "<!-- # (NB: You would have to change the rotation to [np.pi/2, 0, 0], to get a meaningful morphology plot.) -->\n",
    "<!-- # !esubex -->\n",
    "<!-- # -->\n",
    "<!-- # -->\n",
    "<!-- # -->\n",
    "<!-- # \"Physics in Medicine, Physics of the Ear, University of Notre Dame\": -->\n",
    "<!-- # \"https://www3.nd.edu/~nsl/Lectures/mphysics/Medical%20Physics/Part%20I.%20Physics%20of%20the%20Body/Chapter%204.%20Acoustics%20of%20the%20Body/4.3%20Physics%20of%20the%20ear/Physics%20of%20the%20ear.pdf\" -->\n",
    "<!-- --- end exercise --- -->"
   ]
  }
 ],
 "metadata": {
  "kernelspec": {
   "display_name": "Python 3",
   "language": "python",
   "name": "python3"
  },
  "language_info": {
   "codemirror_mode": {
    "name": "ipython",
    "version": 3
   },
   "file_extension": ".py",
   "mimetype": "text/x-python",
   "name": "python",
   "nbconvert_exporter": "python",
   "pygments_lexer": "ipython3",
   "version": "3.7.6"
  }
 },
 "nbformat": 4,
 "nbformat_minor": 2
}
